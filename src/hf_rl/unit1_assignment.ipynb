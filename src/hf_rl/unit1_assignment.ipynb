{
 "cells": [
  {
   "cell_type": "code",
   "id": "initial_id",
   "metadata": {
    "collapsed": true,
    "ExecuteTime": {
     "end_time": "2025-10-15T05:47:08.117443Z",
     "start_time": "2025-10-15T05:46:34.209079Z"
    }
   },
   "source": "!pip install swig cmake stable-baselines3 gymnasium huggingface_sb3",
   "outputs": [
    {
     "name": "stdout",
     "output_type": "stream",
     "text": [
      "Collecting swig\r\n",
      "  Obtaining dependency information for swig from https://files.pythonhosted.org/packages/03/7f/ea138f1bda5e2f7410cb8218fb80cd65fb035432e48f163bfedf5ac6abfa/swig-4.3.1.post0-py3-none-macosx_10_9_universal2.whl.metadata\r\n",
      "  Downloading swig-4.3.1.post0-py3-none-macosx_10_9_universal2.whl.metadata (3.5 kB)\r\n",
      "Collecting cmake\r\n",
      "  Obtaining dependency information for cmake from https://files.pythonhosted.org/packages/c3/6b/aa8b65bd42a5d5872469442f45deb58e8129fb8769f9d6ba3ebf8cdacc14/cmake-4.1.0-py3-none-macosx_10_10_universal2.whl.metadata\r\n",
      "  Downloading cmake-4.1.0-py3-none-macosx_10_10_universal2.whl.metadata (6.5 kB)\r\n",
      "Collecting stable-baselines3\r\n",
      "  Obtaining dependency information for stable-baselines3 from https://files.pythonhosted.org/packages/89/df/6b074e5b8e8437aac0b05e12749565f4613152016daddd45d414269b09d6/stable_baselines3-2.7.0-py3-none-any.whl.metadata\r\n",
      "  Downloading stable_baselines3-2.7.0-py3-none-any.whl.metadata (4.8 kB)\r\n",
      "Collecting gymnasium\r\n",
      "  Obtaining dependency information for gymnasium from https://files.pythonhosted.org/packages/ef/73/85bc0412f15388e3068dc93331c858df6c8fc635b1e3cb30c7f7070ca481/gymnasium-1.2.1-py3-none-any.whl.metadata\r\n",
      "  Downloading gymnasium-1.2.1-py3-none-any.whl.metadata (10.0 kB)\r\n",
      "Collecting huggingface_sb3\r\n",
      "  Obtaining dependency information for huggingface_sb3 from https://files.pythonhosted.org/packages/b5/2c/e8c25087c6e43e5e68659f2a4651988831d4b3e70791c433537c90d147ce/huggingface_sb3-3.0-py3-none-any.whl.metadata\r\n",
      "  Downloading huggingface_sb3-3.0-py3-none-any.whl.metadata (6.3 kB)\r\n",
      "Collecting numpy<3.0,>=1.20 (from stable-baselines3)\r\n",
      "  Obtaining dependency information for numpy<3.0,>=1.20 from https://files.pythonhosted.org/packages/93/fb/9af1082bec870188c42a1c239839915b74a5099c392389ff04215dcee812/numpy-2.3.3-cp311-cp311-macosx_14_0_arm64.whl.metadata\r\n",
      "  Using cached numpy-2.3.3-cp311-cp311-macosx_14_0_arm64.whl.metadata (62 kB)\r\n",
      "Collecting torch<3.0,>=2.3 (from stable-baselines3)\r\n",
      "  Obtaining dependency information for torch<3.0,>=2.3 from https://files.pythonhosted.org/packages/a4/5e/05a5c46085d9b97e928f3f037081d3d2b87fb4b4195030fc099aaec5effc/torch-2.8.0-cp311-none-macosx_11_0_arm64.whl.metadata\r\n",
      "  Using cached torch-2.8.0-cp311-none-macosx_11_0_arm64.whl.metadata (30 kB)\r\n",
      "Collecting cloudpickle (from stable-baselines3)\r\n",
      "  Obtaining dependency information for cloudpickle from https://files.pythonhosted.org/packages/7e/e8/64c37fadfc2816a7701fa8a6ed8d87327c7d54eacfbfb6edab14a2f2be75/cloudpickle-3.1.1-py3-none-any.whl.metadata\r\n",
      "  Using cached cloudpickle-3.1.1-py3-none-any.whl.metadata (7.1 kB)\r\n",
      "Collecting pandas (from stable-baselines3)\r\n",
      "  Obtaining dependency information for pandas from https://files.pythonhosted.org/packages/9b/35/74442388c6cf008882d4d4bdfc4109be87e9b8b7ccd097ad1e7f006e2e95/pandas-2.3.3-cp311-cp311-macosx_11_0_arm64.whl.metadata\r\n",
      "  Using cached pandas-2.3.3-cp311-cp311-macosx_11_0_arm64.whl.metadata (91 kB)\r\n",
      "Collecting matplotlib (from stable-baselines3)\r\n",
      "  Obtaining dependency information for matplotlib from https://files.pythonhosted.org/packages/e2/6a/d42588ad895279ff6708924645b5d2ed54a7fb2dc045c8a804e955aeace1/matplotlib-3.10.7-cp311-cp311-macosx_11_0_arm64.whl.metadata\r\n",
      "  Downloading matplotlib-3.10.7-cp311-cp311-macosx_11_0_arm64.whl.metadata (11 kB)\r\n",
      "Requirement already satisfied: typing-extensions>=4.3.0 in /Users/subhojit/workspace/mimas/.venv/lib/python3.11/site-packages (from gymnasium) (4.15.0)\r\n",
      "Collecting farama-notifications>=0.0.1 (from gymnasium)\r\n",
      "  Obtaining dependency information for farama-notifications>=0.0.1 from https://files.pythonhosted.org/packages/05/2c/ffc08c54c05cdce6fbed2aeebc46348dbe180c6d2c541c7af7ba0aa5f5f8/Farama_Notifications-0.0.4-py3-none-any.whl.metadata\r\n",
      "  Using cached Farama_Notifications-0.0.4-py3-none-any.whl.metadata (558 bytes)\r\n",
      "Collecting huggingface-hub~=0.8 (from huggingface_sb3)\r\n",
      "  Obtaining dependency information for huggingface-hub~=0.8 from https://files.pythonhosted.org/packages/31/a0/651f93d154cb72323358bf2bbae3e642bdb5d2f1bfc874d096f7cb159fa0/huggingface_hub-0.35.3-py3-none-any.whl.metadata\r\n",
      "  Downloading huggingface_hub-0.35.3-py3-none-any.whl.metadata (14 kB)\r\n",
      "Requirement already satisfied: pyyaml~=6.0 in /Users/subhojit/workspace/mimas/.venv/lib/python3.11/site-packages (from huggingface_sb3) (6.0.3)\r\n",
      "Collecting wasabi (from huggingface_sb3)\r\n",
      "  Obtaining dependency information for wasabi from https://files.pythonhosted.org/packages/06/7c/34330a89da55610daa5f245ddce5aab81244321101614751e7537f125133/wasabi-1.1.3-py3-none-any.whl.metadata\r\n",
      "  Downloading wasabi-1.1.3-py3-none-any.whl.metadata (28 kB)\r\n",
      "Collecting filelock (from huggingface-hub~=0.8->huggingface_sb3)\r\n",
      "  Obtaining dependency information for filelock from https://files.pythonhosted.org/packages/76/91/7216b27286936c16f5b4d0c530087e4a54eead683e6b0b73dd0c64844af6/filelock-3.20.0-py3-none-any.whl.metadata\r\n",
      "  Downloading filelock-3.20.0-py3-none-any.whl.metadata (2.1 kB)\r\n",
      "Collecting fsspec>=2023.5.0 (from huggingface-hub~=0.8->huggingface_sb3)\r\n",
      "  Obtaining dependency information for fsspec>=2023.5.0 from https://files.pythonhosted.org/packages/47/71/70db47e4f6ce3e5c37a607355f80da8860a33226be640226ac52cb05ef2e/fsspec-2025.9.0-py3-none-any.whl.metadata\r\n",
      "  Using cached fsspec-2025.9.0-py3-none-any.whl.metadata (10 kB)\r\n",
      "Requirement already satisfied: packaging>=20.9 in /Users/subhojit/workspace/mimas/.venv/lib/python3.11/site-packages (from huggingface-hub~=0.8->huggingface_sb3) (25.0)\r\n",
      "Requirement already satisfied: requests in /Users/subhojit/workspace/mimas/.venv/lib/python3.11/site-packages (from huggingface-hub~=0.8->huggingface_sb3) (2.32.5)\r\n",
      "Collecting tqdm>=4.42.1 (from huggingface-hub~=0.8->huggingface_sb3)\r\n",
      "  Obtaining dependency information for tqdm>=4.42.1 from https://files.pythonhosted.org/packages/d0/30/dc54f88dd4a2b5dc8a0279bdd7270e735851848b762aeb1c1184ed1f6b14/tqdm-4.67.1-py3-none-any.whl.metadata\r\n",
      "  Using cached tqdm-4.67.1-py3-none-any.whl.metadata (57 kB)\r\n",
      "Collecting hf-xet<2.0.0,>=1.1.3 (from huggingface-hub~=0.8->huggingface_sb3)\r\n",
      "  Obtaining dependency information for hf-xet<2.0.0,>=1.1.3 from https://files.pythonhosted.org/packages/31/f9/6215f948ac8f17566ee27af6430ea72045e0418ce757260248b483f4183b/hf_xet-1.1.10-cp37-abi3-macosx_11_0_arm64.whl.metadata\r\n",
      "  Using cached hf_xet-1.1.10-cp37-abi3-macosx_11_0_arm64.whl.metadata (4.7 kB)\r\n",
      "Collecting sympy>=1.13.3 (from torch<3.0,>=2.3->stable-baselines3)\r\n",
      "  Obtaining dependency information for sympy>=1.13.3 from https://files.pythonhosted.org/packages/a2/09/77d55d46fd61b4a135c444fc97158ef34a095e5681d0a6c10b75bf356191/sympy-1.14.0-py3-none-any.whl.metadata\r\n",
      "  Using cached sympy-1.14.0-py3-none-any.whl.metadata (12 kB)\r\n",
      "Collecting networkx (from torch<3.0,>=2.3->stable-baselines3)\r\n",
      "  Obtaining dependency information for networkx from https://files.pythonhosted.org/packages/eb/8d/776adee7bbf76365fdd7f2552710282c79a4ead5d2a46408c9043a2b70ba/networkx-3.5-py3-none-any.whl.metadata\r\n",
      "  Using cached networkx-3.5-py3-none-any.whl.metadata (6.3 kB)\r\n",
      "Requirement already satisfied: jinja2 in /Users/subhojit/workspace/mimas/.venv/lib/python3.11/site-packages (from torch<3.0,>=2.3->stable-baselines3) (3.1.6)\r\n",
      "Collecting contourpy>=1.0.1 (from matplotlib->stable-baselines3)\r\n",
      "  Obtaining dependency information for contourpy>=1.0.1 from https://files.pythonhosted.org/packages/0d/44/c4b0b6095fef4dc9c420e041799591e3b63e9619e3044f7f4f6c21c0ab24/contourpy-1.3.3-cp311-cp311-macosx_11_0_arm64.whl.metadata\r\n",
      "  Downloading contourpy-1.3.3-cp311-cp311-macosx_11_0_arm64.whl.metadata (5.5 kB)\r\n",
      "Collecting cycler>=0.10 (from matplotlib->stable-baselines3)\r\n",
      "  Obtaining dependency information for cycler>=0.10 from https://files.pythonhosted.org/packages/e7/05/c19819d5e3d95294a6f5947fb9b9629efb316b96de511b418c53d245aae6/cycler-0.12.1-py3-none-any.whl.metadata\r\n",
      "  Using cached cycler-0.12.1-py3-none-any.whl.metadata (3.8 kB)\r\n",
      "Collecting fonttools>=4.22.0 (from matplotlib->stable-baselines3)\r\n",
      "  Obtaining dependency information for fonttools>=4.22.0 from https://files.pythonhosted.org/packages/ea/85/639aa9bface1537e0fb0f643690672dde0695a5bbbc90736bc571b0b1941/fonttools-4.60.1-cp311-cp311-macosx_10_9_universal2.whl.metadata\r\n",
      "  Downloading fonttools-4.60.1-cp311-cp311-macosx_10_9_universal2.whl.metadata (112 kB)\r\n",
      "\u001B[2K     \u001B[90m━━━━━━━━━━━━━━━━━━━━━━━━━━━━━━━━━━━━━\u001B[0m \u001B[32m112.3/112.3 kB\u001B[0m \u001B[31m627.6 kB/s\u001B[0m eta \u001B[36m0:00:00\u001B[0ma \u001B[36m0:00:01\u001B[0m\r\n",
      "\u001B[?25hCollecting kiwisolver>=1.3.1 (from matplotlib->stable-baselines3)\r\n",
      "  Obtaining dependency information for kiwisolver>=1.3.1 from https://files.pythonhosted.org/packages/31/a2/a12a503ac1fd4943c50f9822678e8015a790a13b5490354c68afb8489814/kiwisolver-1.4.9-cp311-cp311-macosx_11_0_arm64.whl.metadata\r\n",
      "  Downloading kiwisolver-1.4.9-cp311-cp311-macosx_11_0_arm64.whl.metadata (6.3 kB)\r\n",
      "Collecting pillow>=8 (from matplotlib->stable-baselines3)\r\n",
      "  Obtaining dependency information for pillow>=8 from https://files.pythonhosted.org/packages/cb/39/ee475903197ce709322a17a866892efb560f57900d9af2e55f86db51b0a5/pillow-11.3.0-cp311-cp311-macosx_11_0_arm64.whl.metadata\r\n",
      "  Using cached pillow-11.3.0-cp311-cp311-macosx_11_0_arm64.whl.metadata (9.0 kB)\r\n",
      "Collecting pyparsing>=3 (from matplotlib->stable-baselines3)\r\n",
      "  Obtaining dependency information for pyparsing>=3 from https://files.pythonhosted.org/packages/10/5e/1aa9a93198c6b64513c9d7752de7422c06402de6600a8767da1524f9570b/pyparsing-3.2.5-py3-none-any.whl.metadata\r\n",
      "  Downloading pyparsing-3.2.5-py3-none-any.whl.metadata (5.0 kB)\r\n",
      "Requirement already satisfied: python-dateutil>=2.7 in /Users/subhojit/workspace/mimas/.venv/lib/python3.11/site-packages (from matplotlib->stable-baselines3) (2.9.0.post0)\r\n",
      "Collecting pytz>=2020.1 (from pandas->stable-baselines3)\r\n",
      "  Obtaining dependency information for pytz>=2020.1 from https://files.pythonhosted.org/packages/81/c4/34e93fe5f5429d7570ec1fa436f1986fb1f00c3e0f43a589fe2bbcd22c3f/pytz-2025.2-py2.py3-none-any.whl.metadata\r\n",
      "  Using cached pytz-2025.2-py2.py3-none-any.whl.metadata (22 kB)\r\n",
      "Collecting tzdata>=2022.7 (from pandas->stable-baselines3)\r\n",
      "  Obtaining dependency information for tzdata>=2022.7 from https://files.pythonhosted.org/packages/5c/23/c7abc0ca0a1526a0774eca151daeb8de62ec457e77262b66b359c3c7679e/tzdata-2025.2-py2.py3-none-any.whl.metadata\r\n",
      "  Using cached tzdata-2025.2-py2.py3-none-any.whl.metadata (1.4 kB)\r\n",
      "Requirement already satisfied: six>=1.5 in /Users/subhojit/workspace/mimas/.venv/lib/python3.11/site-packages (from python-dateutil>=2.7->matplotlib->stable-baselines3) (1.17.0)\r\n",
      "Collecting mpmath<1.4,>=1.1.0 (from sympy>=1.13.3->torch<3.0,>=2.3->stable-baselines3)\r\n",
      "  Obtaining dependency information for mpmath<1.4,>=1.1.0 from https://files.pythonhosted.org/packages/43/e3/7d92a15f894aa0c9c4b49b8ee9ac9850d6e63b03c9c32c0367a13ae62209/mpmath-1.3.0-py3-none-any.whl.metadata\r\n",
      "  Using cached mpmath-1.3.0-py3-none-any.whl.metadata (8.6 kB)\r\n",
      "Requirement already satisfied: MarkupSafe>=2.0 in /Users/subhojit/workspace/mimas/.venv/lib/python3.11/site-packages (from jinja2->torch<3.0,>=2.3->stable-baselines3) (3.0.3)\r\n",
      "Requirement already satisfied: charset_normalizer<4,>=2 in /Users/subhojit/workspace/mimas/.venv/lib/python3.11/site-packages (from requests->huggingface-hub~=0.8->huggingface_sb3) (3.4.4)\r\n",
      "Requirement already satisfied: idna<4,>=2.5 in /Users/subhojit/workspace/mimas/.venv/lib/python3.11/site-packages (from requests->huggingface-hub~=0.8->huggingface_sb3) (3.11)\r\n",
      "Requirement already satisfied: urllib3<3,>=1.21.1 in /Users/subhojit/workspace/mimas/.venv/lib/python3.11/site-packages (from requests->huggingface-hub~=0.8->huggingface_sb3) (2.5.0)\r\n",
      "Requirement already satisfied: certifi>=2017.4.17 in /Users/subhojit/workspace/mimas/.venv/lib/python3.11/site-packages (from requests->huggingface-hub~=0.8->huggingface_sb3) (2025.10.5)\r\n",
      "Downloading swig-4.3.1.post0-py3-none-macosx_10_9_universal2.whl (2.6 MB)\r\n",
      "\u001B[2K   \u001B[90m━━━━━━━━━━━━━━━━━━━━━━━━━━━━━━━━━━━━━━━━\u001B[0m \u001B[32m2.6/2.6 MB\u001B[0m \u001B[31m4.5 MB/s\u001B[0m eta \u001B[36m0:00:00\u001B[0ma \u001B[36m0:00:01\u001B[0m\r\n",
      "\u001B[?25hDownloading cmake-4.1.0-py3-none-macosx_10_10_universal2.whl (49.5 MB)\r\n",
      "\u001B[2K   \u001B[90m━━━━━━━━━━━━━━━━━━━━━━━━━━━━━━━━━━━━━━━━\u001B[0m \u001B[32m49.5/49.5 MB\u001B[0m \u001B[31m17.1 MB/s\u001B[0m eta \u001B[36m0:00:00\u001B[0m00:01\u001B[0m00:01\u001B[0m\r\n",
      "\u001B[?25hDownloading stable_baselines3-2.7.0-py3-none-any.whl (187 kB)\r\n",
      "\u001B[2K   \u001B[90m━━━━━━━━━━━━━━━━━━━━━━━━━━━━━━━━━━━━━━━━\u001B[0m \u001B[32m187.2/187.2 kB\u001B[0m \u001B[31m10.9 MB/s\u001B[0m eta \u001B[36m0:00:00\u001B[0m\r\n",
      "\u001B[?25hDownloading gymnasium-1.2.1-py3-none-any.whl (951 kB)\r\n",
      "\u001B[2K   \u001B[90m━━━━━━━━━━━━━━━━━━━━━━━━━━━━━━━━━━━━━━━━\u001B[0m \u001B[32m951.1/951.1 kB\u001B[0m \u001B[31m14.5 MB/s\u001B[0m eta \u001B[36m0:00:00\u001B[0ma \u001B[36m0:00:01\u001B[0m\r\n",
      "\u001B[?25hDownloading huggingface_sb3-3.0-py3-none-any.whl (9.7 kB)\r\n",
      "Using cached cloudpickle-3.1.1-py3-none-any.whl (20 kB)\r\n",
      "Using cached Farama_Notifications-0.0.4-py3-none-any.whl (2.5 kB)\r\n",
      "Downloading huggingface_hub-0.35.3-py3-none-any.whl (564 kB)\r\n",
      "\u001B[2K   \u001B[90m━━━━━━━━━━━━━━━━━━━━━━━━━━━━━━━━━━━━━━━━\u001B[0m \u001B[32m564.3/564.3 kB\u001B[0m \u001B[31m13.3 MB/s\u001B[0m eta \u001B[36m0:00:00\u001B[0m00:01\u001B[0m\r\n",
      "\u001B[?25hUsing cached numpy-2.3.3-cp311-cp311-macosx_14_0_arm64.whl (5.4 MB)\r\n",
      "Using cached torch-2.8.0-cp311-none-macosx_11_0_arm64.whl (73.6 MB)\r\n",
      "Downloading matplotlib-3.10.7-cp311-cp311-macosx_11_0_arm64.whl (8.1 MB)\r\n",
      "\u001B[2K   \u001B[90m━━━━━━━━━━━━━━━━━━━━━━━━━━━━━━━━━━━━━━━━\u001B[0m \u001B[32m8.1/8.1 MB\u001B[0m \u001B[31m14.1 MB/s\u001B[0m eta \u001B[36m0:00:00\u001B[0m00:01\u001B[0m00:01\u001B[0m\r\n",
      "\u001B[?25hUsing cached pandas-2.3.3-cp311-cp311-macosx_11_0_arm64.whl (10.8 MB)\r\n",
      "Downloading wasabi-1.1.3-py3-none-any.whl (27 kB)\r\n",
      "Downloading contourpy-1.3.3-cp311-cp311-macosx_11_0_arm64.whl (270 kB)\r\n",
      "\u001B[2K   \u001B[90m━━━━━━━━━━━━━━━━━━━━━━━━━━━━━━━━━━━━━━━━\u001B[0m \u001B[32m270.1/270.1 kB\u001B[0m \u001B[31m16.7 MB/s\u001B[0m eta \u001B[36m0:00:00\u001B[0m\r\n",
      "\u001B[?25hUsing cached cycler-0.12.1-py3-none-any.whl (8.3 kB)\r\n",
      "Downloading fonttools-4.60.1-cp311-cp311-macosx_10_9_universal2.whl (2.8 MB)\r\n",
      "\u001B[2K   \u001B[90m━━━━━━━━━━━━━━━━━━━━━━━━━━━━━━━━━━━━━━━━\u001B[0m \u001B[32m2.8/2.8 MB\u001B[0m \u001B[31m14.0 MB/s\u001B[0m eta \u001B[36m0:00:00\u001B[0ma \u001B[36m0:00:01\u001B[0m\r\n",
      "\u001B[?25hUsing cached fsspec-2025.9.0-py3-none-any.whl (199 kB)\r\n",
      "Using cached hf_xet-1.1.10-cp37-abi3-macosx_11_0_arm64.whl (2.6 MB)\r\n",
      "Downloading kiwisolver-1.4.9-cp311-cp311-macosx_11_0_arm64.whl (65 kB)\r\n",
      "\u001B[2K   \u001B[90m━━━━━━━━━━━━━━━━━━━━━━━━━━━━━━━━━━━━━━━━\u001B[0m \u001B[32m65.3/65.3 kB\u001B[0m \u001B[31m5.0 MB/s\u001B[0m eta \u001B[36m0:00:00\u001B[0m\r\n",
      "\u001B[?25hUsing cached pillow-11.3.0-cp311-cp311-macosx_11_0_arm64.whl (4.7 MB)\r\n",
      "Downloading pyparsing-3.2.5-py3-none-any.whl (113 kB)\r\n",
      "\u001B[2K   \u001B[90m━━━━━━━━━━━━━━━━━━━━━━━━━━━━━━━━━━━━━━━━\u001B[0m \u001B[32m113.9/113.9 kB\u001B[0m \u001B[31m7.8 MB/s\u001B[0m eta \u001B[36m0:00:00\u001B[0m\r\n",
      "\u001B[?25hUsing cached pytz-2025.2-py2.py3-none-any.whl (509 kB)\r\n",
      "Using cached sympy-1.14.0-py3-none-any.whl (6.3 MB)\r\n",
      "Using cached tqdm-4.67.1-py3-none-any.whl (78 kB)\r\n",
      "Using cached tzdata-2025.2-py2.py3-none-any.whl (347 kB)\r\n",
      "Downloading filelock-3.20.0-py3-none-any.whl (16 kB)\r\n",
      "Using cached networkx-3.5-py3-none-any.whl (2.0 MB)\r\n",
      "Using cached mpmath-1.3.0-py3-none-any.whl (536 kB)\r\n",
      "Installing collected packages: swig, pytz, mpmath, farama-notifications, wasabi, tzdata, tqdm, sympy, pyparsing, pillow, numpy, networkx, kiwisolver, hf-xet, fsspec, fonttools, filelock, cycler, cmake, cloudpickle, torch, pandas, huggingface-hub, gymnasium, contourpy, matplotlib, huggingface_sb3, stable-baselines3\r\n",
      "Successfully installed cloudpickle-3.1.1 cmake-4.1.0 contourpy-1.3.3 cycler-0.12.1 farama-notifications-0.0.4 filelock-3.20.0 fonttools-4.60.1 fsspec-2025.9.0 gymnasium-1.2.1 hf-xet-1.1.10 huggingface-hub-0.35.3 huggingface_sb3-3.0 kiwisolver-1.4.9 matplotlib-3.10.7 mpmath-1.3.0 networkx-3.5 numpy-2.3.3 pandas-2.3.3 pillow-11.3.0 pyparsing-3.2.5 pytz-2025.2 stable-baselines3-2.7.0 swig-4.3.1.post0 sympy-1.14.0 torch-2.8.0 tqdm-4.67.1 tzdata-2025.2 wasabi-1.1.3\r\n",
      "\r\n",
      "\u001B[1m[\u001B[0m\u001B[34;49mnotice\u001B[0m\u001B[1;39;49m]\u001B[0m\u001B[39;49m A new release of pip is available: \u001B[0m\u001B[31;49m23.2.1\u001B[0m\u001B[39;49m -> \u001B[0m\u001B[32;49m25.2\u001B[0m\r\n",
      "\u001B[1m[\u001B[0m\u001B[34;49mnotice\u001B[0m\u001B[1;39;49m]\u001B[0m\u001B[39;49m To update, run: \u001B[0m\u001B[32;49mpip install --upgrade pip\u001B[0m\r\n"
     ]
    }
   ],
   "execution_count": 3
  },
  {
   "metadata": {
    "ExecuteTime": {
     "end_time": "2025-10-15T05:48:07.267434Z",
     "start_time": "2025-10-15T05:48:07.261824Z"
    }
   },
   "cell_type": "code",
   "source": "import swig",
   "id": "6444f7912e0f16ab",
   "outputs": [],
   "execution_count": 4
  },
  {
   "metadata": {
    "ExecuteTime": {
     "end_time": "2025-10-15T05:49:06.017001Z",
     "start_time": "2025-10-15T05:49:06.013896Z"
    }
   },
   "cell_type": "code",
   "source": [
    "import gymnasium\n",
    "\n",
    "from huggingface_sb3 import load_from_hub, package_to_hub\n",
    "from huggingface_hub import notebook_login # To log to our Hugging Face account to be able to upload models to the Hub.\n",
    "\n",
    "from stable_baselines3 import PPO\n",
    "from stable_baselines3.common.env_util import make_vec_env\n",
    "from stable_baselines3.common.evaluation import evaluate_policy\n",
    "from stable_baselines3.common.monitor import Monitor"
   ],
   "id": "66364a97dfbb578f",
   "outputs": [],
   "execution_count": 8
  },
  {
   "metadata": {
    "ExecuteTime": {
     "end_time": "2025-10-15T05:48:59.142966Z",
     "start_time": "2025-10-15T05:48:58.233898Z"
    }
   },
   "cell_type": "code",
   "source": "!pip install tqdm",
   "id": "e04dd9a038039345",
   "outputs": [
    {
     "name": "stdout",
     "output_type": "stream",
     "text": [
      "Requirement already satisfied: tqdm in /Users/subhojit/workspace/mimas/.venv/lib/python3.11/site-packages (4.67.1)\r\n",
      "\r\n",
      "\u001B[1m[\u001B[0m\u001B[34;49mnotice\u001B[0m\u001B[1;39;49m]\u001B[0m\u001B[39;49m A new release of pip is available: \u001B[0m\u001B[31;49m23.2.1\u001B[0m\u001B[39;49m -> \u001B[0m\u001B[32;49m25.2\u001B[0m\r\n",
      "\u001B[1m[\u001B[0m\u001B[34;49mnotice\u001B[0m\u001B[1;39;49m]\u001B[0m\u001B[39;49m To update, run: \u001B[0m\u001B[32;49mpip install --upgrade pip\u001B[0m\r\n"
     ]
    }
   ],
   "execution_count": 6
  },
  {
   "metadata": {
    "ExecuteTime": {
     "end_time": "2025-10-15T05:49:44.016392Z",
     "start_time": "2025-10-15T05:49:44.014725Z"
    }
   },
   "cell_type": "code",
   "source": "import gymnasium as gym",
   "id": "cfb8c3be26bc07e1",
   "outputs": [],
   "execution_count": 10
  },
  {
   "metadata": {
    "ExecuteTime": {
     "end_time": "2025-10-15T05:50:34.168152Z",
     "start_time": "2025-10-15T05:50:33.974989Z"
    }
   },
   "cell_type": "code",
   "source": "env = gym.make('LunarLander-v3')",
   "id": "b8dc9c0a5478db8c",
   "outputs": [
    {
     "ename": "DependencyNotInstalled",
     "evalue": "Box2D is not installed, you can install it by run `pip install swig` followed by `pip install \"gymnasium[box2d]\"`",
     "output_type": "error",
     "traceback": [
      "\u001B[31m---------------------------------------------------------------------------\u001B[39m",
      "\u001B[31mModuleNotFoundError\u001B[39m                       Traceback (most recent call last)",
      "\u001B[36mFile \u001B[39m\u001B[32m~/workspace/mimas/.venv/lib/python3.11/site-packages/gymnasium/envs/box2d/bipedal_walker.py:15\u001B[39m\n\u001B[32m     14\u001B[39m \u001B[38;5;28;01mtry\u001B[39;00m:\n\u001B[32m---> \u001B[39m\u001B[32m15\u001B[39m     \u001B[38;5;28;01mimport\u001B[39;00m\u001B[38;5;250m \u001B[39m\u001B[34;01mBox2D\u001B[39;00m\n\u001B[32m     16\u001B[39m     \u001B[38;5;28;01mfrom\u001B[39;00m\u001B[38;5;250m \u001B[39m\u001B[34;01mBox2D\u001B[39;00m\u001B[34;01m.\u001B[39;00m\u001B[34;01mb2\u001B[39;00m\u001B[38;5;250m \u001B[39m\u001B[38;5;28;01mimport\u001B[39;00m (\n\u001B[32m     17\u001B[39m         circleShape,\n\u001B[32m     18\u001B[39m         contactListener,\n\u001B[32m   (...)\u001B[39m\u001B[32m     22\u001B[39m         revoluteJointDef,\n\u001B[32m     23\u001B[39m     )\n",
      "\u001B[31mModuleNotFoundError\u001B[39m: No module named 'Box2D'",
      "\nThe above exception was the direct cause of the following exception:\n",
      "\u001B[31mDependencyNotInstalled\u001B[39m                    Traceback (most recent call last)",
      "\u001B[36mCell\u001B[39m\u001B[36m \u001B[39m\u001B[32mIn[13]\u001B[39m\u001B[32m, line 1\u001B[39m\n\u001B[32m----> \u001B[39m\u001B[32m1\u001B[39m env = \u001B[43mgym\u001B[49m\u001B[43m.\u001B[49m\u001B[43mmake\u001B[49m\u001B[43m(\u001B[49m\u001B[33;43m'\u001B[39;49m\u001B[33;43mLunarLander-v3\u001B[39;49m\u001B[33;43m'\u001B[39;49m\u001B[43m)\u001B[49m\n",
      "\u001B[36mFile \u001B[39m\u001B[32m~/workspace/mimas/.venv/lib/python3.11/site-packages/gymnasium/envs/registration.py:696\u001B[39m, in \u001B[36mmake\u001B[39m\u001B[34m(id, max_episode_steps, disable_env_checker, **kwargs)\u001B[39m\n\u001B[32m    693\u001B[39m     env_creator = env_spec.entry_point\n\u001B[32m    694\u001B[39m \u001B[38;5;28;01melse\u001B[39;00m:\n\u001B[32m    695\u001B[39m     \u001B[38;5;66;03m# Assume it's a string\u001B[39;00m\n\u001B[32m--> \u001B[39m\u001B[32m696\u001B[39m     env_creator = \u001B[43mload_env_creator\u001B[49m\u001B[43m(\u001B[49m\u001B[43menv_spec\u001B[49m\u001B[43m.\u001B[49m\u001B[43mentry_point\u001B[49m\u001B[43m)\u001B[49m\n\u001B[32m    698\u001B[39m \u001B[38;5;66;03m# Determine if to use the rendering\u001B[39;00m\n\u001B[32m    699\u001B[39m render_modes: \u001B[38;5;28mlist\u001B[39m[\u001B[38;5;28mstr\u001B[39m] | \u001B[38;5;28;01mNone\u001B[39;00m = \u001B[38;5;28;01mNone\u001B[39;00m\n",
      "\u001B[36mFile \u001B[39m\u001B[32m~/workspace/mimas/.venv/lib/python3.11/site-packages/gymnasium/envs/registration.py:544\u001B[39m, in \u001B[36mload_env_creator\u001B[39m\u001B[34m(name)\u001B[39m\n\u001B[32m    535\u001B[39m \u001B[38;5;250m\u001B[39m\u001B[33;03m\"\"\"Loads an environment with name of style ``\"(import path):(environment name)\"`` and returns the environment creation function, normally the environment class type.\u001B[39;00m\n\u001B[32m    536\u001B[39m \n\u001B[32m    537\u001B[39m \u001B[33;03mArgs:\u001B[39;00m\n\u001B[32m   (...)\u001B[39m\u001B[32m    541\u001B[39m \u001B[33;03m    The environment constructor for the given environment name.\u001B[39;00m\n\u001B[32m    542\u001B[39m \u001B[33;03m\"\"\"\u001B[39;00m\n\u001B[32m    543\u001B[39m mod_name, attr_name = name.split(\u001B[33m\"\u001B[39m\u001B[33m:\u001B[39m\u001B[33m\"\u001B[39m)\n\u001B[32m--> \u001B[39m\u001B[32m544\u001B[39m mod = \u001B[43mimportlib\u001B[49m\u001B[43m.\u001B[49m\u001B[43mimport_module\u001B[49m\u001B[43m(\u001B[49m\u001B[43mmod_name\u001B[49m\u001B[43m)\u001B[49m\n\u001B[32m    545\u001B[39m fn = \u001B[38;5;28mgetattr\u001B[39m(mod, attr_name)\n\u001B[32m    546\u001B[39m \u001B[38;5;28;01mreturn\u001B[39;00m fn\n",
      "\u001B[36mFile \u001B[39m\u001B[32m/Library/Frameworks/Python.framework/Versions/3.11/lib/python3.11/importlib/__init__.py:126\u001B[39m, in \u001B[36mimport_module\u001B[39m\u001B[34m(name, package)\u001B[39m\n\u001B[32m    124\u001B[39m             \u001B[38;5;28;01mbreak\u001B[39;00m\n\u001B[32m    125\u001B[39m         level += \u001B[32m1\u001B[39m\n\u001B[32m--> \u001B[39m\u001B[32m126\u001B[39m \u001B[38;5;28;01mreturn\u001B[39;00m \u001B[43m_bootstrap\u001B[49m\u001B[43m.\u001B[49m\u001B[43m_gcd_import\u001B[49m\u001B[43m(\u001B[49m\u001B[43mname\u001B[49m\u001B[43m[\u001B[49m\u001B[43mlevel\u001B[49m\u001B[43m:\u001B[49m\u001B[43m]\u001B[49m\u001B[43m,\u001B[49m\u001B[43m \u001B[49m\u001B[43mpackage\u001B[49m\u001B[43m,\u001B[49m\u001B[43m \u001B[49m\u001B[43mlevel\u001B[49m\u001B[43m)\u001B[49m\n",
      "\u001B[36mFile \u001B[39m\u001B[32m<frozen importlib._bootstrap>:1204\u001B[39m, in \u001B[36m_gcd_import\u001B[39m\u001B[34m(name, package, level)\u001B[39m\n",
      "\u001B[36mFile \u001B[39m\u001B[32m<frozen importlib._bootstrap>:1176\u001B[39m, in \u001B[36m_find_and_load\u001B[39m\u001B[34m(name, import_)\u001B[39m\n",
      "\u001B[36mFile \u001B[39m\u001B[32m<frozen importlib._bootstrap>:1126\u001B[39m, in \u001B[36m_find_and_load_unlocked\u001B[39m\u001B[34m(name, import_)\u001B[39m\n",
      "\u001B[36mFile \u001B[39m\u001B[32m<frozen importlib._bootstrap>:241\u001B[39m, in \u001B[36m_call_with_frames_removed\u001B[39m\u001B[34m(f, *args, **kwds)\u001B[39m\n",
      "\u001B[36mFile \u001B[39m\u001B[32m<frozen importlib._bootstrap>:1204\u001B[39m, in \u001B[36m_gcd_import\u001B[39m\u001B[34m(name, package, level)\u001B[39m\n",
      "\u001B[36mFile \u001B[39m\u001B[32m<frozen importlib._bootstrap>:1176\u001B[39m, in \u001B[36m_find_and_load\u001B[39m\u001B[34m(name, import_)\u001B[39m\n",
      "\u001B[36mFile \u001B[39m\u001B[32m<frozen importlib._bootstrap>:1147\u001B[39m, in \u001B[36m_find_and_load_unlocked\u001B[39m\u001B[34m(name, import_)\u001B[39m\n",
      "\u001B[36mFile \u001B[39m\u001B[32m<frozen importlib._bootstrap>:690\u001B[39m, in \u001B[36m_load_unlocked\u001B[39m\u001B[34m(spec)\u001B[39m\n",
      "\u001B[36mFile \u001B[39m\u001B[32m<frozen importlib._bootstrap_external>:940\u001B[39m, in \u001B[36mexec_module\u001B[39m\u001B[34m(self, module)\u001B[39m\n",
      "\u001B[36mFile \u001B[39m\u001B[32m<frozen importlib._bootstrap>:241\u001B[39m, in \u001B[36m_call_with_frames_removed\u001B[39m\u001B[34m(f, *args, **kwds)\u001B[39m\n",
      "\u001B[36mFile \u001B[39m\u001B[32m~/workspace/mimas/.venv/lib/python3.11/site-packages/gymnasium/envs/box2d/__init__.py:1\u001B[39m\n\u001B[32m----> \u001B[39m\u001B[32m1\u001B[39m \u001B[38;5;28;01mfrom\u001B[39;00m\u001B[38;5;250m \u001B[39m\u001B[34;01mgymnasium\u001B[39;00m\u001B[34;01m.\u001B[39;00m\u001B[34;01menvs\u001B[39;00m\u001B[34;01m.\u001B[39;00m\u001B[34;01mbox2d\u001B[39;00m\u001B[34;01m.\u001B[39;00m\u001B[34;01mbipedal_walker\u001B[39;00m\u001B[38;5;250m \u001B[39m\u001B[38;5;28;01mimport\u001B[39;00m BipedalWalker, BipedalWalkerHardcore\n\u001B[32m      2\u001B[39m \u001B[38;5;28;01mfrom\u001B[39;00m\u001B[38;5;250m \u001B[39m\u001B[34;01mgymnasium\u001B[39;00m\u001B[34;01m.\u001B[39;00m\u001B[34;01menvs\u001B[39;00m\u001B[34;01m.\u001B[39;00m\u001B[34;01mbox2d\u001B[39;00m\u001B[34;01m.\u001B[39;00m\u001B[34;01mcar_racing\u001B[39;00m\u001B[38;5;250m \u001B[39m\u001B[38;5;28;01mimport\u001B[39;00m CarRacing\n\u001B[32m      3\u001B[39m \u001B[38;5;28;01mfrom\u001B[39;00m\u001B[38;5;250m \u001B[39m\u001B[34;01mgymnasium\u001B[39;00m\u001B[34;01m.\u001B[39;00m\u001B[34;01menvs\u001B[39;00m\u001B[34;01m.\u001B[39;00m\u001B[34;01mbox2d\u001B[39;00m\u001B[34;01m.\u001B[39;00m\u001B[34;01mlunar_lander\u001B[39;00m\u001B[38;5;250m \u001B[39m\u001B[38;5;28;01mimport\u001B[39;00m LunarLander, LunarLanderContinuous\n",
      "\u001B[36mFile \u001B[39m\u001B[32m~/workspace/mimas/.venv/lib/python3.11/site-packages/gymnasium/envs/box2d/bipedal_walker.py:25\u001B[39m\n\u001B[32m     16\u001B[39m     \u001B[38;5;28;01mfrom\u001B[39;00m\u001B[38;5;250m \u001B[39m\u001B[34;01mBox2D\u001B[39;00m\u001B[34;01m.\u001B[39;00m\u001B[34;01mb2\u001B[39;00m\u001B[38;5;250m \u001B[39m\u001B[38;5;28;01mimport\u001B[39;00m (\n\u001B[32m     17\u001B[39m         circleShape,\n\u001B[32m     18\u001B[39m         contactListener,\n\u001B[32m   (...)\u001B[39m\u001B[32m     22\u001B[39m         revoluteJointDef,\n\u001B[32m     23\u001B[39m     )\n\u001B[32m     24\u001B[39m \u001B[38;5;28;01mexcept\u001B[39;00m \u001B[38;5;167;01mImportError\u001B[39;00m \u001B[38;5;28;01mas\u001B[39;00m e:\n\u001B[32m---> \u001B[39m\u001B[32m25\u001B[39m     \u001B[38;5;28;01mraise\u001B[39;00m DependencyNotInstalled(\n\u001B[32m     26\u001B[39m         \u001B[33m'\u001B[39m\u001B[33mBox2D is not installed, you can install it by run `pip install swig` followed by `pip install \u001B[39m\u001B[33m\"\u001B[39m\u001B[33mgymnasium[box2d]\u001B[39m\u001B[33m\"\u001B[39m\u001B[33m`\u001B[39m\u001B[33m'\u001B[39m\n\u001B[32m     27\u001B[39m     ) \u001B[38;5;28;01mfrom\u001B[39;00m\u001B[38;5;250m \u001B[39m\u001B[34;01me\u001B[39;00m\n\u001B[32m     30\u001B[39m \u001B[38;5;28;01mif\u001B[39;00m TYPE_CHECKING:\n\u001B[32m     31\u001B[39m     \u001B[38;5;28;01mimport\u001B[39;00m\u001B[38;5;250m \u001B[39m\u001B[34;01mpygame\u001B[39;00m\n",
      "\u001B[31mDependencyNotInstalled\u001B[39m: Box2D is not installed, you can install it by run `pip install swig` followed by `pip install \"gymnasium[box2d]\"`"
     ]
    }
   ],
   "execution_count": 13
  },
  {
   "metadata": {
    "ExecuteTime": {
     "end_time": "2025-10-15T05:51:33.023490Z",
     "start_time": "2025-10-15T05:50:58.411977Z"
    }
   },
   "cell_type": "code",
   "source": "!pip install \"gymnasium[box2d]\"",
   "id": "6742e996c1ec5c2b",
   "outputs": [
    {
     "name": "stdout",
     "output_type": "stream",
     "text": [
      "Requirement already satisfied: gymnasium[box2d] in /Users/subhojit/workspace/mimas/.venv/lib/python3.11/site-packages (1.2.1)\r\n",
      "Requirement already satisfied: numpy>=1.21.0 in /Users/subhojit/workspace/mimas/.venv/lib/python3.11/site-packages (from gymnasium[box2d]) (2.3.3)\r\n",
      "Requirement already satisfied: cloudpickle>=1.2.0 in /Users/subhojit/workspace/mimas/.venv/lib/python3.11/site-packages (from gymnasium[box2d]) (3.1.1)\r\n",
      "Requirement already satisfied: typing-extensions>=4.3.0 in /Users/subhojit/workspace/mimas/.venv/lib/python3.11/site-packages (from gymnasium[box2d]) (4.15.0)\r\n",
      "Requirement already satisfied: farama-notifications>=0.0.1 in /Users/subhojit/workspace/mimas/.venv/lib/python3.11/site-packages (from gymnasium[box2d]) (0.0.4)\r\n",
      "Collecting box2d-py==2.3.5 (from gymnasium[box2d])\r\n",
      "  Downloading box2d-py-2.3.5.tar.gz (374 kB)\r\n",
      "\u001B[2K     \u001B[90m━━━━━━━━━━━━━━━━━━━━━━━━━━━━━━━━━━━━━━━\u001B[0m \u001B[32m374.4/374.4 kB\u001B[0m \u001B[31m2.2 MB/s\u001B[0m eta \u001B[36m0:00:00\u001B[0ma \u001B[36m0:00:01\u001B[0m\r\n",
      "\u001B[?25h  Preparing metadata (setup.py) ... \u001B[?25ldone\r\n",
      "\u001B[?25hCollecting pygame>=2.1.3 (from gymnasium[box2d])\r\n",
      "  Obtaining dependency information for pygame>=2.1.3 from https://files.pythonhosted.org/packages/83/47/6edf2f890139616b3219be9cfcc8f0cb8f42eb15efd59597927e390538cb/pygame-2.6.1-cp311-cp311-macosx_11_0_arm64.whl.metadata\r\n",
      "  Downloading pygame-2.6.1-cp311-cp311-macosx_11_0_arm64.whl.metadata (12 kB)\r\n",
      "Requirement already satisfied: swig==4.* in /Users/subhojit/workspace/mimas/.venv/lib/python3.11/site-packages (from gymnasium[box2d]) (4.3.1.post0)\r\n",
      "Downloading pygame-2.6.1-cp311-cp311-macosx_11_0_arm64.whl (12.4 MB)\r\n",
      "\u001B[2K   \u001B[90m━━━━━━━━━━━━━━━━━━━━━━━━━━━━━━━━━━━━━━━━\u001B[0m \u001B[32m12.4/12.4 MB\u001B[0m \u001B[31m20.2 MB/s\u001B[0m eta \u001B[36m0:00:00\u001B[0m00:01\u001B[0m00:01\u001B[0m\r\n",
      "\u001B[?25hBuilding wheels for collected packages: box2d-py\r\n",
      "  Building wheel for box2d-py (setup.py) ... \u001B[?25ldone\r\n",
      "\u001B[?25h  Created wheel for box2d-py: filename=box2d_py-2.3.5-cp311-cp311-macosx_10_9_universal2.whl size=873974 sha256=aeb7938e9ad3cff1fa427961ad2b840d4e39e355f414b7aab14d1c16c8e113c5\r\n",
      "  Stored in directory: /Users/subhojit/Library/Caches/pip/wheels/ab/f1/0c/d56f4a2bdd12bae0a0693ec33f2f0daadb5eb9753c78fa5308\r\n",
      "Successfully built box2d-py\r\n",
      "Installing collected packages: box2d-py, pygame\r\n",
      "Successfully installed box2d-py-2.3.5 pygame-2.6.1\r\n",
      "\r\n",
      "\u001B[1m[\u001B[0m\u001B[34;49mnotice\u001B[0m\u001B[1;39;49m]\u001B[0m\u001B[39;49m A new release of pip is available: \u001B[0m\u001B[31;49m23.2.1\u001B[0m\u001B[39;49m -> \u001B[0m\u001B[32;49m25.2\u001B[0m\r\n",
      "\u001B[1m[\u001B[0m\u001B[34;49mnotice\u001B[0m\u001B[1;39;49m]\u001B[0m\u001B[39;49m To update, run: \u001B[0m\u001B[32;49mpip install --upgrade pip\u001B[0m\r\n"
     ]
    }
   ],
   "execution_count": 14
  },
  {
   "metadata": {
    "ExecuteTime": {
     "end_time": "2025-10-15T05:51:35.723747Z",
     "start_time": "2025-10-15T05:51:35.600544Z"
    }
   },
   "cell_type": "code",
   "source": "",
   "id": "78a0a280ccc8ac69",
   "outputs": [],
   "execution_count": 15
  },
  {
   "metadata": {
    "ExecuteTime": {
     "end_time": "2025-10-15T05:51:48.257935Z",
     "start_time": "2025-10-15T05:51:48.255144Z"
    }
   },
   "cell_type": "code",
   "source": "",
   "id": "1fa352821d610f39",
   "outputs": [],
   "execution_count": 16
  },
  {
   "metadata": {
    "ExecuteTime": {
     "end_time": "2025-10-15T05:54:13.000582Z",
     "start_time": "2025-10-15T05:54:12.995065Z"
    }
   },
   "cell_type": "code",
   "source": [
    "env = gym.make('LunarLander-v3')\n",
    "observation, info = env.reset()\n",
    "for _ in range(20):\n",
    "    action = env.action_space.sample()\n",
    "    print(\"Action taken: \", action)\n",
    "    observation, reward, terminated, truncated, info = env.step(action)\n",
    "    if terminated or truncated:\n",
    "        env.reset()\n",
    "\n",
    "env.close()"
   ],
   "id": "3e3d541a37081ac2",
   "outputs": [
    {
     "name": "stdout",
     "output_type": "stream",
     "text": [
      "Action taken:  3\n",
      "Action taken:  2\n",
      "Action taken:  1\n",
      "Action taken:  0\n",
      "Action taken:  1\n",
      "Action taken:  2\n",
      "Action taken:  1\n",
      "Action taken:  3\n",
      "Action taken:  0\n",
      "Action taken:  3\n",
      "Action taken:  0\n",
      "Action taken:  2\n",
      "Action taken:  1\n",
      "Action taken:  1\n",
      "Action taken:  0\n",
      "Action taken:  2\n",
      "Action taken:  0\n",
      "Action taken:  0\n",
      "Action taken:  1\n",
      "Action taken:  1\n"
     ]
    }
   ],
   "execution_count": 18
  },
  {
   "metadata": {
    "ExecuteTime": {
     "end_time": "2025-10-15T06:01:59.922824Z",
     "start_time": "2025-10-15T06:01:59.916619Z"
    }
   },
   "cell_type": "code",
   "source": [
    "env = gym.make('LunarLander-v3')\n",
    "env.reset()\n",
    "print(env.observation_space.shape)\n",
    "print(env.observation_space.sample())"
   ],
   "id": "8db64110a04814ef",
   "outputs": [
    {
     "name": "stdout",
     "output_type": "stream",
     "text": [
      "(8,)\n",
      "[-2.4737945   1.6783007   9.7435255  -9.691956    4.6227818   9.52212\n",
      "  0.91211575  0.2935802 ]\n"
     ]
    }
   ],
   "execution_count": 20
  },
  {
   "metadata": {
    "ExecuteTime": {
     "end_time": "2025-10-15T06:07:06.292232Z",
     "start_time": "2025-10-15T06:07:06.285375Z"
    }
   },
   "cell_type": "code",
   "source": "env = make_vec_env('LunarLander-v3', n_envs=16)",
   "id": "5ba5335fdb5e02c0",
   "outputs": [],
   "execution_count": 21
  },
  {
   "metadata": {},
   "cell_type": "code",
   "outputs": [],
   "execution_count": null,
   "source": "",
   "id": "bf2c96f422bec080"
  }
 ],
 "metadata": {
  "kernelspec": {
   "display_name": "Python 3",
   "language": "python",
   "name": "python3"
  },
  "language_info": {
   "codemirror_mode": {
    "name": "ipython",
    "version": 2
   },
   "file_extension": ".py",
   "mimetype": "text/x-python",
   "name": "python",
   "nbconvert_exporter": "python",
   "pygments_lexer": "ipython2",
   "version": "2.7.6"
  }
 },
 "nbformat": 4,
 "nbformat_minor": 5
}
