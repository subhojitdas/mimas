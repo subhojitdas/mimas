{
 "cells": [
  {
   "cell_type": "code",
   "id": "initial_id",
   "metadata": {
    "collapsed": true,
    "ExecuteTime": {
     "end_time": "2025-10-23T19:55:40.367314Z",
     "start_time": "2025-10-23T19:55:39.368385Z"
    }
   },
   "source": "!pip install pickle",
   "outputs": [
    {
     "name": "stdout",
     "output_type": "stream",
     "text": [
      "\u001B[31mERROR: Could not find a version that satisfies the requirement pickle (from versions: none)\u001B[0m\u001B[31m\r\n",
      "\u001B[0m\u001B[31mERROR: No matching distribution found for pickle\u001B[0m\u001B[31m\r\n",
      "\u001B[0m\r\n",
      "\u001B[1m[\u001B[0m\u001B[34;49mnotice\u001B[0m\u001B[1;39;49m]\u001B[0m\u001B[39;49m A new release of pip is available: \u001B[0m\u001B[31;49m23.2.1\u001B[0m\u001B[39;49m -> \u001B[0m\u001B[32;49m25.2\u001B[0m\r\n",
      "\u001B[1m[\u001B[0m\u001B[34;49mnotice\u001B[0m\u001B[1;39;49m]\u001B[0m\u001B[39;49m To update, run: \u001B[0m\u001B[32;49mpip install --upgrade pip\u001B[0m\r\n"
     ]
    }
   ],
   "execution_count": 5
  },
  {
   "metadata": {
    "ExecuteTime": {
     "end_time": "2025-10-23T19:55:26.915459Z",
     "start_time": "2025-10-23T19:55:25.353954Z"
    }
   },
   "cell_type": "code",
   "source": " !pip install pyyaml==6.0 imageio imageio_ffmpeg pyglet==1.5.1 tqdm",
   "id": "63af9d24cb5695e3",
   "outputs": [
    {
     "name": "stdout",
     "output_type": "stream",
     "text": [
      "Collecting pyyaml==6.0\r\n",
      "  Obtaining dependency information for pyyaml==6.0 from https://files.pythonhosted.org/packages/cb/5f/05dd91f5046e2256e35d885f3b8f0f280148568f08e1bf20421887523e9a/PyYAML-6.0-cp311-cp311-macosx_11_0_arm64.whl.metadata\r\n",
      "  Using cached PyYAML-6.0-cp311-cp311-macosx_11_0_arm64.whl.metadata (2.1 kB)\r\n",
      "Requirement already satisfied: imageio in /Users/subhojit/workspace/mimas/.venv/lib/python3.11/site-packages (2.37.0)\r\n",
      "Requirement already satisfied: imageio_ffmpeg in /Users/subhojit/workspace/mimas/.venv/lib/python3.11/site-packages (0.6.0)\r\n",
      "Collecting pyglet==1.5.1\r\n",
      "  Obtaining dependency information for pyglet==1.5.1 from https://files.pythonhosted.org/packages/a2/26/6c512c726354cfc0da357259e040528cd67aae6c5484e8d4b8fc9d87a047/pyglet-1.5.1-py2.py3-none-any.whl.metadata\r\n",
      "  Using cached pyglet-1.5.1-py2.py3-none-any.whl.metadata (7.6 kB)\r\n",
      "Requirement already satisfied: tqdm in /Users/subhojit/workspace/mimas/.venv/lib/python3.11/site-packages (4.67.1)\r\n",
      "Requirement already satisfied: numpy in /Users/subhojit/workspace/mimas/.venv/lib/python3.11/site-packages (from imageio) (2.2.6)\r\n",
      "Requirement already satisfied: pillow>=8.3.2 in /Users/subhojit/workspace/mimas/.venv/lib/python3.11/site-packages (from imageio) (11.3.0)\r\n",
      "Using cached PyYAML-6.0-cp311-cp311-macosx_11_0_arm64.whl (167 kB)\r\n",
      "Using cached pyglet-1.5.1-py2.py3-none-any.whl (1.0 MB)\r\n",
      "Installing collected packages: pyglet, pyyaml\r\n",
      "  Attempting uninstall: pyyaml\r\n",
      "    Found existing installation: PyYAML 6.0.3\r\n",
      "    Uninstalling PyYAML-6.0.3:\r\n",
      "      Successfully uninstalled PyYAML-6.0.3\r\n",
      "Successfully installed pyglet-1.5.1 pyyaml-6.0\r\n",
      "\r\n",
      "\u001B[1m[\u001B[0m\u001B[34;49mnotice\u001B[0m\u001B[1;39;49m]\u001B[0m\u001B[39;49m A new release of pip is available: \u001B[0m\u001B[31;49m23.2.1\u001B[0m\u001B[39;49m -> \u001B[0m\u001B[32;49m25.2\u001B[0m\r\n",
      "\u001B[1m[\u001B[0m\u001B[34;49mnotice\u001B[0m\u001B[1;39;49m]\u001B[0m\u001B[39;49m To update, run: \u001B[0m\u001B[32;49mpip install --upgrade pip\u001B[0m\r\n"
     ]
    }
   ],
   "execution_count": 4
  },
  {
   "metadata": {
    "ExecuteTime": {
     "end_time": "2025-10-23T19:59:07.888372Z",
     "start_time": "2025-10-23T19:59:06.802522Z"
    }
   },
   "cell_type": "code",
   "source": [
    "!apt install ffmpeg xvfb\n",
    "!pip3 install pyvirtualdisplay"
   ],
   "id": "b03f94df17c7256e",
   "outputs": [
    {
     "name": "stdout",
     "output_type": "stream",
     "text": [
      "zsh:1: command not found: apt\r\n",
      "Requirement already satisfied: pyvirtualdisplay in /Users/subhojit/workspace/mimas/.venv/lib/python3.11/site-packages (3.0)\r\n",
      "\r\n",
      "\u001B[1m[\u001B[0m\u001B[34;49mnotice\u001B[0m\u001B[1;39;49m]\u001B[0m\u001B[39;49m A new release of pip is available: \u001B[0m\u001B[31;49m23.2.1\u001B[0m\u001B[39;49m -> \u001B[0m\u001B[32;49m25.2\u001B[0m\r\n",
      "\u001B[1m[\u001B[0m\u001B[34;49mnotice\u001B[0m\u001B[1;39;49m]\u001B[0m\u001B[39;49m To update, run: \u001B[0m\u001B[32;49mpip install --upgrade pip\u001B[0m\r\n"
     ]
    }
   ],
   "execution_count": 8
  },
  {
   "metadata": {
    "jupyter": {
     "is_executing": true
    }
   },
   "cell_type": "code",
   "source": [
    "import os\n",
    "os.kill(os.getpid(), 9)"
   ],
   "id": "24ce523e89011e6c",
   "outputs": [],
   "execution_count": null
  },
  {
   "metadata": {},
   "cell_type": "code",
   "outputs": [],
   "execution_count": null,
   "source": [
    "# Virtual display\n",
    "from pyvirtualdisplay import Display\n",
    "\n",
    "virtual_display = Display(visible=0, size=(1400, 900))\n",
    "virtual_display.start()"
   ],
   "id": "7e0348f79546f8eb"
  },
  {
   "metadata": {},
   "cell_type": "code",
   "outputs": [],
   "execution_count": null,
   "source": [
    "import numpy as np\n",
    "import gymnasium as gym\n",
    "import random\n",
    "import imageio\n",
    "import os\n",
    "import tqdm\n",
    "\n",
    "import pickle\n",
    "from tqdm.notebook import tqdm"
   ],
   "id": "790a218529d6594c"
  },
  {
   "metadata": {},
   "cell_type": "code",
   "outputs": [],
   "execution_count": null,
   "source": "",
   "id": "832a0b253300187"
  }
 ],
 "metadata": {
  "kernelspec": {
   "display_name": "Python 3",
   "language": "python",
   "name": "python3"
  },
  "language_info": {
   "codemirror_mode": {
    "name": "ipython",
    "version": 2
   },
   "file_extension": ".py",
   "mimetype": "text/x-python",
   "name": "python",
   "nbconvert_exporter": "python",
   "pygments_lexer": "ipython2",
   "version": "2.7.6"
  }
 },
 "nbformat": 4,
 "nbformat_minor": 5
}
